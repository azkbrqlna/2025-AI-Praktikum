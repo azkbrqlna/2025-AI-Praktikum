{
  "nbformat": 4,
  "nbformat_minor": 0,
  "metadata": {
    "colab": {
      "provenance": [],
      "toc_visible": true,
      "authorship_tag": "ABX9TyMfUCSHoG4lpme2wrynKroB",
      "include_colab_link": true
    },
    "kernelspec": {
      "name": "python3",
      "display_name": "Python 3"
    },
    "language_info": {
      "name": "python"
    }
  },
  "cells": [
    {
      "cell_type": "markdown",
      "metadata": {
        "id": "view-in-github",
        "colab_type": "text"
      },
      "source": [
        "<a href=\"https://colab.research.google.com/github/azkbrqlna/2025-AI-Praktikum/blob/main/Jobsheet2.ipynb\" target=\"_parent\"><img src=\"https://colab.research.google.com/assets/colab-badge.svg\" alt=\"Open In Colab\"/></a>"
      ]
    },
    {
      "cell_type": "markdown",
      "source": [
        "# Jobsheet 2 : OPERASI MATEMATIKA, VEKTOR, MATRIKS DAN TIPE DATA"
      ],
      "metadata": {
        "id": "eu3YV4SYobHC"
      }
    },
    {
      "cell_type": "markdown",
      "source": [
        "## Operasi Matematika Menggunakan Python"
      ],
      "metadata": {
        "id": "XMkPMwpPp2mu"
      }
    },
    {
      "cell_type": "markdown",
      "source": [
        "### a. Mendapatkan nilai Minimum dan Maksimum"
      ],
      "metadata": {
        "id": "TAP8a9Z5omwl"
      }
    },
    {
      "cell_type": "code",
      "execution_count": 6,
      "metadata": {
        "colab": {
          "base_uri": "https://localhost:8080/"
        },
        "id": "ld0HGoDbmi-s",
        "outputId": "0de5dfdf-22fb-409c-9851-1fdd33f2aa33"
      },
      "outputs": [
        {
          "output_type": "stream",
          "name": "stdout",
          "text": [
            "5\n",
            "18\n"
          ]
        }
      ],
      "source": [
        "x = min(5, 10, 25)\n",
        "y = max(6, 12, 18)\n",
        "\n",
        "print(x)\n",
        "print(y)"
      ]
    },
    {
      "cell_type": "markdown",
      "source": [
        "### b. Mendapatkan nilai Absolute"
      ],
      "metadata": {
        "id": "SJViYc7AoxF4"
      }
    },
    {
      "cell_type": "code",
      "source": [
        "x = abs(-7.25)\n",
        "\n",
        "print(x)"
      ],
      "metadata": {
        "colab": {
          "base_uri": "https://localhost:8080/"
        },
        "id": "r6aY5yveoEwg",
        "outputId": "a249d186-84f3-4207-98dc-d0cc302c5618"
      },
      "execution_count": 8,
      "outputs": [
        {
          "output_type": "stream",
          "name": "stdout",
          "text": [
            "7.25\n"
          ]
        }
      ]
    },
    {
      "cell_type": "markdown",
      "source": [
        "### c. Mendapatkan nilai Pangkat"
      ],
      "metadata": {
        "id": "p2uBFXxEo8cr"
      }
    },
    {
      "cell_type": "code",
      "source": [
        "import math\n",
        "x = math.pow(4, 3)\n",
        "\n",
        "print(x)"
      ],
      "metadata": {
        "colab": {
          "base_uri": "https://localhost:8080/"
        },
        "id": "Yf55dKNQoLxG",
        "outputId": "d2bbb4b8-ccce-451c-d1a2-31a54f7a4269"
      },
      "execution_count": 10,
      "outputs": [
        {
          "output_type": "stream",
          "name": "stdout",
          "text": [
            "64.0\n"
          ]
        }
      ]
    },
    {
      "cell_type": "markdown",
      "source": [
        "### d. Mendapatkan nilai AKar"
      ],
      "metadata": {
        "id": "1SwOk7Q1pW5j"
      }
    },
    {
      "cell_type": "code",
      "source": [
        "import math\n",
        "x = math.sqrt(64)\n",
        "\n",
        "print(x)"
      ],
      "metadata": {
        "colab": {
          "base_uri": "https://localhost:8080/"
        },
        "id": "ySf2uIfTpPVD",
        "outputId": "45d82dda-fe1f-406f-be05-aee5059a7d0b"
      },
      "execution_count": 11,
      "outputs": [
        {
          "output_type": "stream",
          "name": "stdout",
          "text": [
            "8.0\n"
          ]
        }
      ]
    },
    {
      "cell_type": "markdown",
      "source": [
        "### e. Mendapatkan nilai Pembulatan"
      ],
      "metadata": {
        "id": "Hz2rv08Xpnm-"
      }
    },
    {
      "cell_type": "code",
      "source": [
        "import math\n",
        "x = math.ceil(1.4)\n",
        "y = math.floor(1.4)\n",
        "\n",
        "print(x)\n",
        "print(y)"
      ],
      "metadata": {
        "colab": {
          "base_uri": "https://localhost:8080/"
        },
        "id": "RdfC4_x6pilV",
        "outputId": "e4bc2bc1-448f-4cc1-e0f8-82c5538b1a65"
      },
      "execution_count": 12,
      "outputs": [
        {
          "output_type": "stream",
          "name": "stdout",
          "text": [
            "2\n",
            "1\n"
          ]
        }
      ]
    },
    {
      "cell_type": "markdown",
      "source": [
        "### f.\tMendapatkan nilai konstanta (PI)"
      ],
      "metadata": {
        "id": "T1fPnIyNqBDf"
      }
    },
    {
      "cell_type": "code",
      "source": [
        "import math\n",
        "x = math.pi\n",
        "\n",
        "print(x)"
      ],
      "metadata": {
        "colab": {
          "base_uri": "https://localhost:8080/"
        },
        "id": "hTRwarOLqDjZ",
        "outputId": "12b82488-0b5d-40bf-b01c-4507bfc4172a"
      },
      "execution_count": 14,
      "outputs": [
        {
          "output_type": "stream",
          "name": "stdout",
          "text": [
            "3.141592653589793\n"
          ]
        }
      ]
    },
    {
      "cell_type": "markdown",
      "source": [
        "## Menggunakan Fungsi MATH"
      ],
      "metadata": {
        "id": "P9XORKP2qx5L"
      }
    },
    {
      "cell_type": "code",
      "source": [
        "import math\n",
        "\n",
        "# Menghitung nilai sinus dari 1 radian\n",
        "a = math.sin(1)\n",
        "\n",
        "# Menghitung nilai kosinus dari 9 radian\n",
        "b = math.cos(9)\n",
        "\n",
        "# Menghitung nilai tangen dari 5 radian\n",
        "c = math.tan(5)\n",
        "\n",
        "# Menghitung logaritma natural (basis e) dari 6\n",
        "d = math.log(6)\n",
        "\n",
        "# Menghitung logaritma basis 10 dari 6\n",
        "e = math.log10(6)\n",
        "\n",
        "# Mengkonversi 6 radian ke derajat\n",
        "f = math.degrees(6)\n",
        "\n",
        "# Menghitung jarak Euclidean antara titik (1, 2) dan (3, 4)\n",
        "g = math.dist((1, 2), (3, 4))\n",
        "\n",
        "# Menghitung faktorial dari 6 (6!)\n",
        "h = math.factorial(6)\n",
        "\n",
        "# Menghitung sisa pembagian (modulus) dari 6 dibagi 5\n",
        "i = math.fmod(6, 5)\n",
        "\n",
        "# Memeriksa apakah 6 adalah NaN (Not a Number)\n",
        "j = math.isnan(6)\n",
        "\n",
        "# Menghitung nilai fungsi gamma dari 6\n",
        "k = math.gamma(6)\n",
        "\n",
        "# Menghitung jumlah permutasi dari 6 item yang diambil 5 pada satu waktu\n",
        "l = math.perm(6, 5)\n",
        "\n",
        "print(a)\n",
        "print(b)\n",
        "print(c)\n",
        "print(d)\n",
        "print(e)\n",
        "print(f)\n",
        "print(g)\n",
        "print(h)\n",
        "print(i)\n",
        "print(j)\n",
        "print(k)\n",
        "print(l)"
      ],
      "metadata": {
        "colab": {
          "base_uri": "https://localhost:8080/"
        },
        "id": "o0SHFObarLEg",
        "outputId": "eb4d5b9e-518a-40cc-b153-e06440cbefea"
      },
      "execution_count": 29,
      "outputs": [
        {
          "output_type": "stream",
          "name": "stdout",
          "text": [
            "0.8414709848078965\n",
            "-0.9111302618846769\n",
            "-3.380515006246586\n",
            "1.791759469228055\n",
            "0.7781512503836436\n",
            "343.77467707849394\n",
            "2.8284271247461903\n",
            "720\n",
            "1.0\n",
            "False\n",
            "120.0\n",
            "720\n"
          ]
        }
      ]
    },
    {
      "cell_type": "markdown",
      "source": [
        "## Operasi matriks dan vektor dengan python"
      ],
      "metadata": {
        "id": "GqPYkijZqMWb"
      }
    },
    {
      "cell_type": "markdown",
      "source": [
        "### a.\tMembuat matriks di pyhon"
      ],
      "metadata": {
        "id": "9bZPLXMutPrR"
      }
    },
    {
      "cell_type": "code",
      "source": [
        "import numpy as np\n",
        "A = np.array([[80, 30, 25],\n",
        "[50, 20, 10]])\n",
        "B = np.array([[30, 60, 15],\n",
        "[10, 30, 30]])\n",
        "\n",
        "hasil = A + B\n",
        "\n",
        "print(hasil)"
      ],
      "metadata": {
        "colab": {
          "base_uri": "https://localhost:8080/"
        },
        "id": "twYc2wM0qR92",
        "outputId": "b69eb5ca-fe4c-4895-c641-cdfdf145bae1"
      },
      "execution_count": 30,
      "outputs": [
        {
          "output_type": "stream",
          "name": "stdout",
          "text": [
            "[[110  90  40]\n",
            " [ 60  50  40]]\n"
          ]
        }
      ]
    },
    {
      "cell_type": "markdown",
      "source": [
        "### b.\tMelakukan operasi dot product"
      ],
      "metadata": {
        "id": "XuMVoqn_tSwU"
      }
    },
    {
      "cell_type": "code",
      "source": [
        "import numpy as np\n",
        "A = np.array([10, 20, 15])\n",
        "B = np.array([16, 67, 35])\n",
        "\n",
        "hasil = np.dot(A, B)\n",
        "\n",
        "print(hasil)"
      ],
      "metadata": {
        "colab": {
          "base_uri": "https://localhost:8080/"
        },
        "id": "slkriqe4tpb2",
        "outputId": "fc9da0da-9260-401e-a1dd-6d1cef6e6b72"
      },
      "execution_count": 32,
      "outputs": [
        {
          "output_type": "stream",
          "name": "stdout",
          "text": [
            "2025\n"
          ]
        }
      ]
    },
    {
      "cell_type": "markdown",
      "source": [
        "### c.\tMelakukan operasi cross product"
      ],
      "metadata": {
        "id": "ktlJHvfxtwmC"
      }
    },
    {
      "cell_type": "code",
      "source": [
        "import numpy as np\n",
        "A = np.array([10, 20, 15])\n",
        "B = np.array([16, 67, 35])\n",
        "\n",
        "Hasil = np.cross(A, B)\n",
        "\n",
        "print(Hasil)"
      ],
      "metadata": {
        "colab": {
          "base_uri": "https://localhost:8080/"
        },
        "id": "XkO3jPGptrGA",
        "outputId": "6790aefe-823c-4ad9-a618-595771147eb6"
      },
      "execution_count": 34,
      "outputs": [
        {
          "output_type": "stream",
          "name": "stdout",
          "text": [
            "[-305 -110  350]\n"
          ]
        }
      ]
    }
  ]
}