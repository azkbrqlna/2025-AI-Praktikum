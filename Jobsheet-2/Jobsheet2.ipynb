{
  "cells": [
    {
      "cell_type": "markdown",
      "metadata": {
        "colab_type": "text",
        "id": "view-in-github"
      },
      "source": [
        "<a href=\"https://colab.research.google.com/github/azkbrqlna/2025-AI-Praktikum/blob/main/Jobsheet2.ipynb\" target=\"_parent\"><img src=\"https://colab.research.google.com/assets/colab-badge.svg\" alt=\"Open In Colab\"/></a>"
      ]
    },
    {
      "cell_type": "markdown",
      "metadata": {
        "id": "eu3YV4SYobHC"
      },
      "source": [
        "# Jobsheet 2 : OPERASI MATEMATIKA, VEKTOR, MATRIKS DAN TIPE DATA"
      ]
    },
    {
      "cell_type": "markdown",
      "metadata": {
        "id": "XMkPMwpPp2mu"
      },
      "source": [
        "## Operasi Matematika Menggunakan Python"
      ]
    },
    {
      "cell_type": "markdown",
      "metadata": {
        "id": "TAP8a9Z5omwl"
      },
      "source": [
        "### a. Mendapatkan nilai Minimum dan Maksimum"
      ]
    },
    {
      "cell_type": "code",
      "execution_count": 1,
      "metadata": {
        "colab": {
          "base_uri": "https://localhost:8080/"
        },
        "id": "ld0HGoDbmi-s",
        "outputId": "0de5dfdf-22fb-409c-9851-1fdd33f2aa33"
      },
      "outputs": [
        {
          "name": "stdout",
          "output_type": "stream",
          "text": [
            "5\n",
            "18\n"
          ]
        }
      ],
      "source": [
        "x = min(5, 10, 25)\n",
        "y = max(6, 12, 18)\n",
        "\n",
        "print(x)\n",
        "print(y)"
      ]
    },
    {
      "cell_type": "markdown",
      "metadata": {
        "id": "SJViYc7AoxF4"
      },
      "source": [
        "### b. Mendapatkan nilai Absolute"
      ]
    },
    {
      "cell_type": "code",
      "execution_count": 2,
      "metadata": {
        "colab": {
          "base_uri": "https://localhost:8080/"
        },
        "id": "r6aY5yveoEwg",
        "outputId": "a249d186-84f3-4207-98dc-d0cc302c5618"
      },
      "outputs": [
        {
          "name": "stdout",
          "output_type": "stream",
          "text": [
            "7.25\n"
          ]
        }
      ],
      "source": [
        "x = abs(-7.25)\n",
        "\n",
        "print(x)"
      ]
    },
    {
      "cell_type": "markdown",
      "metadata": {
        "id": "p2uBFXxEo8cr"
      },
      "source": [
        "### c. Mendapatkan nilai Pangkat"
      ]
    },
    {
      "cell_type": "code",
      "execution_count": 3,
      "metadata": {
        "colab": {
          "base_uri": "https://localhost:8080/"
        },
        "id": "Yf55dKNQoLxG",
        "outputId": "d2bbb4b8-ccce-451c-d1a2-31a54f7a4269"
      },
      "outputs": [
        {
          "name": "stdout",
          "output_type": "stream",
          "text": [
            "64.0\n"
          ]
        }
      ],
      "source": [
        "import math\n",
        "x = math.pow(4, 3)\n",
        "\n",
        "print(x)"
      ]
    },
    {
      "cell_type": "markdown",
      "metadata": {
        "id": "1SwOk7Q1pW5j"
      },
      "source": [
        "### d. Mendapatkan nilai AKar"
      ]
    },
    {
      "cell_type": "code",
      "execution_count": 4,
      "metadata": {
        "colab": {
          "base_uri": "https://localhost:8080/"
        },
        "id": "ySf2uIfTpPVD",
        "outputId": "45d82dda-fe1f-406f-be05-aee5059a7d0b"
      },
      "outputs": [
        {
          "name": "stdout",
          "output_type": "stream",
          "text": [
            "8.0\n"
          ]
        }
      ],
      "source": [
        "import math\n",
        "x = math.sqrt(64)\n",
        "\n",
        "print(x)"
      ]
    },
    {
      "cell_type": "markdown",
      "metadata": {
        "id": "Hz2rv08Xpnm-"
      },
      "source": [
        "### e. Mendapatkan nilai Pembulatan"
      ]
    },
    {
      "cell_type": "code",
      "execution_count": 5,
      "metadata": {
        "colab": {
          "base_uri": "https://localhost:8080/"
        },
        "id": "RdfC4_x6pilV",
        "outputId": "e4bc2bc1-448f-4cc1-e0f8-82c5538b1a65"
      },
      "outputs": [
        {
          "name": "stdout",
          "output_type": "stream",
          "text": [
            "2\n",
            "1\n"
          ]
        }
      ],
      "source": [
        "import math\n",
        "x = math.ceil(1.4)\n",
        "y = math.floor(1.4)\n",
        "\n",
        "print(x)\n",
        "print(y)"
      ]
    },
    {
      "cell_type": "markdown",
      "metadata": {
        "id": "T1fPnIyNqBDf"
      },
      "source": [
        "### f.\tMendapatkan nilai konstanta (PI)"
      ]
    },
    {
      "cell_type": "code",
      "execution_count": 6,
      "metadata": {
        "colab": {
          "base_uri": "https://localhost:8080/"
        },
        "id": "hTRwarOLqDjZ",
        "outputId": "12b82488-0b5d-40bf-b01c-4507bfc4172a"
      },
      "outputs": [
        {
          "name": "stdout",
          "output_type": "stream",
          "text": [
            "3.141592653589793\n"
          ]
        }
      ],
      "source": [
        "import math\n",
        "x = math.pi\n",
        "\n",
        "print(x)"
      ]
    },
    {
      "cell_type": "markdown",
      "metadata": {
        "id": "P9XORKP2qx5L"
      },
      "source": [
        "## Menggunakan Fungsi MATH"
      ]
    },
    {
      "cell_type": "code",
      "execution_count": 7,
      "metadata": {
        "colab": {
          "base_uri": "https://localhost:8080/"
        },
        "id": "o0SHFObarLEg",
        "outputId": "eb4d5b9e-518a-40cc-b153-e06440cbefea"
      },
      "outputs": [
        {
          "name": "stdout",
          "output_type": "stream",
          "text": [
            "0.8414709848078965\n",
            "-0.9111302618846769\n",
            "-3.380515006246586\n",
            "1.791759469228055\n",
            "0.7781512503836436\n",
            "343.77467707849394\n",
            "2.8284271247461903\n",
            "720\n",
            "1.0\n",
            "False\n",
            "120.0\n",
            "720\n"
          ]
        }
      ],
      "source": [
        "import math\n",
        "\n",
        "# Menghitung nilai sinus dari 1 radian\n",
        "a = math.sin(1)\n",
        "\n",
        "# Menghitung nilai kosinus dari 9 radian\n",
        "b = math.cos(9)\n",
        "\n",
        "# Menghitung nilai tangen dari 5 radian\n",
        "c = math.tan(5)\n",
        "\n",
        "# Menghitung logaritma natural (basis e) dari 6\n",
        "d = math.log(6)\n",
        "\n",
        "# Menghitung logaritma basis 10 dari 6\n",
        "e = math.log10(6)\n",
        "\n",
        "# Mengkonversi 6 radian ke derajat\n",
        "f = math.degrees(6)\n",
        "\n",
        "# Menghitung jarak Euclidean antara titik (1, 2) dan (3, 4)\n",
        "g = math.dist((1, 2), (3, 4))\n",
        "\n",
        "# Menghitung faktorial dari 6 (6!)\n",
        "h = math.factorial(6)\n",
        "\n",
        "# Menghitung sisa pembagian (modulus) dari 6 dibagi 5\n",
        "i = math.fmod(6, 5)\n",
        "\n",
        "# Memeriksa apakah 6 adalah NaN (Not a Number)\n",
        "j = math.isnan(6)\n",
        "\n",
        "# Menghitung nilai fungsi gamma dari 6\n",
        "k = math.gamma(6)\n",
        "\n",
        "# Menghitung jumlah permutasi dari 6 item yang diambil 5 pada satu waktu\n",
        "l = math.perm(6, 5)\n",
        "\n",
        "print(a)\n",
        "print(b)\n",
        "print(c)\n",
        "print(d)\n",
        "print(e)\n",
        "print(f)\n",
        "print(g)\n",
        "print(h)\n",
        "print(i)\n",
        "print(j)\n",
        "print(k)\n",
        "print(l)"
      ]
    },
    {
      "cell_type": "markdown",
      "metadata": {
        "id": "GqPYkijZqMWb"
      },
      "source": [
        "## Operasi matriks dan vektor dengan python"
      ]
    },
    {
      "cell_type": "markdown",
      "metadata": {
        "id": "9bZPLXMutPrR"
      },
      "source": [
        "### a.\tMembuat matriks di pyhon"
      ]
    },
    {
      "cell_type": "code",
      "execution_count": 8,
      "metadata": {
        "colab": {
          "base_uri": "https://localhost:8080/"
        },
        "id": "twYc2wM0qR92",
        "outputId": "b69eb5ca-fe4c-4895-c641-cdfdf145bae1"
      },
      "outputs": [
        {
          "name": "stdout",
          "output_type": "stream",
          "text": [
            "[[110  90  40]\n",
            " [ 60  50  40]]\n"
          ]
        }
      ],
      "source": [
        "import numpy as np\n",
        "A = np.array([[80, 30, 25],\n",
        "[50, 20, 10]])\n",
        "B = np.array([[30, 60, 15],\n",
        "[10, 30, 30]])\n",
        "\n",
        "hasil = A + B\n",
        "\n",
        "print(hasil)"
      ]
    },
    {
      "cell_type": "markdown",
      "metadata": {
        "id": "XuMVoqn_tSwU"
      },
      "source": [
        "### b.\tMelakukan operasi dot product"
      ]
    },
    {
      "cell_type": "code",
      "execution_count": 9,
      "metadata": {
        "colab": {
          "base_uri": "https://localhost:8080/"
        },
        "id": "slkriqe4tpb2",
        "outputId": "fc9da0da-9260-401e-a1dd-6d1cef6e6b72"
      },
      "outputs": [
        {
          "name": "stdout",
          "output_type": "stream",
          "text": [
            "2025\n"
          ]
        }
      ],
      "source": [
        "import numpy as np\n",
        "A = np.array([10, 20, 15])\n",
        "B = np.array([16, 67, 35])\n",
        "\n",
        "hasil = np.dot(A, B)\n",
        "\n",
        "print(hasil)"
      ]
    },
    {
      "cell_type": "markdown",
      "metadata": {
        "id": "ktlJHvfxtwmC"
      },
      "source": [
        "### c.\tMelakukan operasi cross product"
      ]
    },
    {
      "cell_type": "code",
      "execution_count": 10,
      "metadata": {
        "colab": {
          "base_uri": "https://localhost:8080/"
        },
        "id": "XkO3jPGptrGA",
        "outputId": "6790aefe-823c-4ad9-a618-595771147eb6"
      },
      "outputs": [
        {
          "name": "stdout",
          "output_type": "stream",
          "text": [
            "[-305 -110  350]\n"
          ]
        }
      ],
      "source": [
        "import numpy as np\n",
        "A = np.array([10, 20, 15])\n",
        "B = np.array([16, 67, 35])\n",
        "\n",
        "Hasil = np.cross(A, B)\n",
        "\n",
        "print(Hasil)"
      ]
    },
    {
      "cell_type": "markdown",
      "metadata": {
        "id": "kbLjp7dBwrRb"
      },
      "source": [
        "## Tugas\n"
      ]
    },
    {
      "cell_type": "code",
      "execution_count": 11,
      "metadata": {
        "colab": {
          "base_uri": "https://localhost:8080/"
        },
        "id": "TuB9G8vuw6jW",
        "outputId": "970cddcc-babb-41b6-b082-62df788c4632"
      },
      "outputs": [
        {
          "name": "stdout",
          "output_type": "stream",
          "text": [
            "Jawaban No. 1\n",
            "a. A x B =\n",
            " [[7 2]\n",
            " [4 2]]\n",
            "b. B x C =\n",
            " [[ 0  2  3]\n",
            " [-3  1  3]]\n",
            "\n",
            "Jawaban No. 2\n",
            "a. 6! = 720\n",
            "b. 8! / 5! = 336.0\n",
            "\n",
            "Jawaban No.3\n",
            "Panjang vektor A: 9.1104335791443\n",
            "Panjang vektor B: 12.409673645990857\n",
            "Perkalian dot A . B: 58\n",
            "Perkalian cross A x B:\n",
            " [ 24  79 -51]\n"
          ]
        }
      ],
      "source": [
        "import numpy as np\n",
        "import math\n",
        "\n",
        "A = np.array([[3, 1], [2, 0]])\n",
        "B = np.array([[2, 1], [1, -1]])\n",
        "C = np.array([[-1, 1, 2], [2, 0, -1]])\n",
        "\n",
        "AxB = np.dot(A, B)\n",
        "BxC = np.dot(B, C)\n",
        "\n",
        "print(\"Jawaban No. 1\")\n",
        "print(\"a. A x B =\\n\", AxB)\n",
        "print(\"b. B x C =\\n\", BxC)\n",
        "print()\n",
        "\n",
        "faktorial_6 = math.factorial(6)\n",
        "faktorial_8 = math.factorial(8)\n",
        "faktorial_5 = math.factorial(5)\n",
        "\n",
        "hasil = faktorial_8 / faktorial_5\n",
        "\n",
        "print(\"Jawaban No. 2\")\n",
        "print(\"a. 6! =\", faktorial_6)\n",
        "print(\"b. 8! / 5! =\", hasil)\n",
        "print()\n",
        "\n",
        "D = np.array([5, 3, 7])\n",
        "E = np.array([12, -3, 1])\n",
        "\n",
        "panjang_A = np.linalg.norm(D)\n",
        "panjang_B = np.linalg.norm(E)\n",
        "\n",
        "dot_product = np.dot(D, E)\n",
        "cross_product = np.cross(D, E)\n",
        "\n",
        "print(\"Jawaban No.3\")\n",
        "print(\"Panjang vektor A:\", panjang_A)\n",
        "print(\"Panjang vektor B:\", panjang_B)\n",
        "print(\"Perkalian dot A . B:\", dot_product)\n",
        "print(\"Perkalian cross A x B:\\n\", cross_product)"
      ]
    }
  ],
  "metadata": {
    "colab": {
      "authorship_tag": "ABX9TyP284s63+8T53zQPT6+wMIV",
      "include_colab_link": true,
      "provenance": [],
      "toc_visible": true
    },
    "kernelspec": {
      "display_name": "Python 3",
      "name": "python3"
    },
    "language_info": {
      "codemirror_mode": {
        "name": "ipython",
        "version": 3
      },
      "file_extension": ".py",
      "mimetype": "text/x-python",
      "name": "python",
      "nbconvert_exporter": "python",
      "pygments_lexer": "ipython3",
      "version": "3.13.1"
    }
  },
  "nbformat": 4,
  "nbformat_minor": 0
}
