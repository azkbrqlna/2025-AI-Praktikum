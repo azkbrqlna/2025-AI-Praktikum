{
  "nbformat": 4,
  "nbformat_minor": 0,
  "metadata": {
    "colab": {
      "provenance": [],
      "collapsed_sections": [
        "aocxF46Rz0Nx"
      ],
      "authorship_tag": "ABX9TyPK4MwcrXTB/ZIfFGUNWI6F",
      "include_colab_link": true
    },
    "kernelspec": {
      "name": "python3",
      "display_name": "Python 3"
    },
    "language_info": {
      "name": "python"
    }
  },
  "cells": [
    {
      "cell_type": "markdown",
      "metadata": {
        "id": "view-in-github",
        "colab_type": "text"
      },
      "source": [
        "<a href=\"https://colab.research.google.com/github/azkbrqlna/2025-AI-Praktikum/blob/main/Jobsheet3.ipynb\" target=\"_parent\"><img src=\"https://colab.research.google.com/assets/colab-badge.svg\" alt=\"Open In Colab\"/></a>"
      ]
    },
    {
      "cell_type": "markdown",
      "source": [
        "# A. Latihan"
      ],
      "metadata": {
        "id": "erB324vt6YF5"
      }
    },
    {
      "cell_type": "markdown",
      "source": [
        "## 1. Central Tendency"
      ],
      "metadata": {
        "id": "fkvRlnaLzp3Z"
      }
    },
    {
      "cell_type": "markdown",
      "source": [
        "### a. Mendapatkan Nilai Mean"
      ],
      "metadata": {
        "id": "aocxF46Rz0Nx"
      }
    },
    {
      "cell_type": "code",
      "execution_count": null,
      "metadata": {
        "colab": {
          "base_uri": "https://localhost:8080/"
        },
        "id": "5tkW5i4FzZ_-",
        "outputId": "71d4840a-5c21-4292-d120-b99d53269833"
      },
      "outputs": [
        {
          "output_type": "stream",
          "name": "stdout",
          "text": [
            "82.11111111111111\n"
          ]
        }
      ],
      "source": [
        "import numpy as np\n",
        "\n",
        "score = [90, 80, 70, 65, 110, 80, 83, 67, 94]\n",
        "\n",
        "x = np.mean(score)\n",
        "\n",
        "print(x)"
      ]
    },
    {
      "cell_type": "markdown",
      "source": [
        "### b. Mendapatkan Nilai Median"
      ],
      "metadata": {
        "id": "yyHdyDMh0qQs"
      }
    },
    {
      "cell_type": "code",
      "source": [
        "import numpy as np\n",
        "\n",
        "score = [90, 80, 70, 65, 110, 80, 83, 67, 94]\n",
        "\n",
        "x = np.median(score)\n",
        "\n",
        "print(x)"
      ],
      "metadata": {
        "colab": {
          "base_uri": "https://localhost:8080/"
        },
        "id": "5NZjzwAr043a",
        "outputId": "97d5d0c8-32bf-4ffb-823e-474784a35b27"
      },
      "execution_count": null,
      "outputs": [
        {
          "output_type": "stream",
          "name": "stdout",
          "text": [
            "80.0\n"
          ]
        }
      ]
    },
    {
      "cell_type": "markdown",
      "source": [
        "### c. Mendapatkan Nilai Modus"
      ],
      "metadata": {
        "id": "IRTaeV-k1JH8"
      }
    },
    {
      "cell_type": "code",
      "source": [
        "from scipy import stats\n",
        "\n",
        "score = [90, 80, 70, 65, 110, 80, 83, 67, 94]\n",
        "\n",
        "x = stats.mode(score, keepdims=True)\n",
        "\n",
        "print(x)"
      ],
      "metadata": {
        "colab": {
          "base_uri": "https://localhost:8080/"
        },
        "id": "kVBRkK5A1NpF",
        "outputId": "91c0465a-ca88-49b7-e406-8a59b9d2eaa6"
      },
      "execution_count": null,
      "outputs": [
        {
          "output_type": "stream",
          "name": "stdout",
          "text": [
            "ModeResult(mode=array([80]), count=array([2]))\n"
          ]
        }
      ]
    },
    {
      "cell_type": "markdown",
      "source": [
        "## 2. Spread"
      ],
      "metadata": {
        "id": "RAyj5t7M23NE"
      }
    },
    {
      "cell_type": "markdown",
      "source": [
        "### a.\tMendapatkan Nilai Range"
      ],
      "metadata": {
        "id": "no6itBX5274o"
      }
    },
    {
      "cell_type": "code",
      "source": [
        "import numpy as np\n",
        "\n",
        "data = [2, 3, 7, 8, 9, 12, 15, 20, 50, 42]\n",
        "\n",
        "minimum = np.min(data)\n",
        "maximum = np.max(data)\n",
        "x = maximum - minimum\n",
        "\n",
        "print(x)"
      ],
      "metadata": {
        "colab": {
          "base_uri": "https://localhost:8080/"
        },
        "id": "ZGw1YD8l3CIt",
        "outputId": "6518ee8d-c9ba-4996-802a-3f2a45b7abc5"
      },
      "execution_count": null,
      "outputs": [
        {
          "output_type": "stream",
          "name": "stdout",
          "text": [
            "48\n"
          ]
        }
      ]
    },
    {
      "cell_type": "markdown",
      "source": [
        "### b.\tMendapatkan Nilai Percentile"
      ],
      "metadata": {
        "id": "1lNjPo5w3esF"
      }
    },
    {
      "cell_type": "code",
      "source": [
        "import numpy as np\n",
        "\n",
        "data = [90, 80, 70, 65, 110, 80, 83, 67, 94]\n",
        "\n",
        "x = np.percentile(data, 90)\n",
        "\n",
        "print(x)"
      ],
      "metadata": {
        "colab": {
          "base_uri": "https://localhost:8080/"
        },
        "id": "DCNhATqy3EvD",
        "outputId": "04108e93-6d54-49f3-bf25-72f8426072b7"
      },
      "execution_count": null,
      "outputs": [
        {
          "output_type": "stream",
          "name": "stdout",
          "text": [
            "97.2\n"
          ]
        }
      ]
    },
    {
      "cell_type": "markdown",
      "source": [
        "### c.\tMendapatkan Nilai Quartile dan Interquartile Range"
      ],
      "metadata": {
        "id": "lPHT3d9M35VT"
      }
    },
    {
      "cell_type": "code",
      "source": [
        "import numpy as np\n",
        "\n",
        "data = [3, 4, 4, 5, 5, 6, 6, 7, 8, 8, 9, 10]\n",
        "\n",
        "Q1 = np.median(data[:int(len(data)/2)])\n",
        "Q3 = np.median(data[int(len(data)/2):])\n",
        "IQR = Q3 - Q1\n",
        "\n",
        "print(Q1, Q3, IQR)"
      ],
      "metadata": {
        "colab": {
          "base_uri": "https://localhost:8080/"
        },
        "id": "jZsnNe303nfI",
        "outputId": "e65df5ba-a718-4174-bf9b-37403b120ef6"
      },
      "execution_count": null,
      "outputs": [
        {
          "output_type": "stream",
          "name": "stdout",
          "text": [
            "4.5 8.0 3.5\n"
          ]
        }
      ]
    },
    {
      "cell_type": "markdown",
      "source": [
        "### d.\tMendapatkan Nilai Variance dan Standart Deviation"
      ],
      "metadata": {
        "id": "0G-W7uxx4kei"
      }
    },
    {
      "cell_type": "code",
      "source": [
        "import numpy as np\n",
        "\n",
        "data= [86, 87, 88, 86, 87, 85, 86]\n",
        "\n",
        "mean = np.mean(data)\n",
        "var = np.var(data)\n",
        "std = np.std(data)\n",
        "\n",
        "print(mean, var, std)"
      ],
      "metadata": {
        "colab": {
          "base_uri": "https://localhost:8080/"
        },
        "id": "HAdnQs2W4tSc",
        "outputId": "017d085f-33ba-45b3-88c0-05375fc73db0"
      },
      "execution_count": null,
      "outputs": [
        {
          "output_type": "stream",
          "name": "stdout",
          "text": [
            "86.42857142857143 0.8163265306122449 0.9035079029052513\n"
          ]
        }
      ]
    },
    {
      "cell_type": "markdown",
      "source": [
        "# B. Tugas Praktikum"
      ],
      "metadata": {
        "id": "KXXoV5mA8RwT"
      }
    },
    {
      "cell_type": "markdown",
      "source": [
        "1.\tPelemparan dadu sebanyak 25 kali. Angka yang keluar datanya adalah :\n",
        "1 2 3 4 5 5 6 2 3 4 5 6 6 4 3 2 1 4 3 5 6 6 5 4 5\n",
        "Modus dari data diatas adalah …\n"
      ],
      "metadata": {
        "id": "aCwSYj8h8hTP"
      }
    },
    {
      "cell_type": "code",
      "source": [
        "from scipy import stats\n",
        "\n",
        "score = [1, 2, 3, 4, 5, 5, 6, 2, 3, 4, 5, 6, 6, 4, 3, 2, 1, 4, 3, 5, 6, 6, 5, 4, 5]\n",
        "\n",
        "x = stats.mode(score, keepdims=True)\n",
        "\n",
        "print(x)"
      ],
      "metadata": {
        "id": "OZE6uQxv8oYZ",
        "outputId": "266c19b8-788f-460e-a993-ab7eaf389ffd",
        "colab": {
          "base_uri": "https://localhost:8080/"
        }
      },
      "execution_count": 1,
      "outputs": [
        {
          "output_type": "stream",
          "name": "stdout",
          "text": [
            "ModeResult(mode=array([5]), count=array([6]))\n"
          ]
        }
      ]
    },
    {
      "cell_type": "markdown",
      "source": [
        "2.\tDiketahui sebuah deret data 9, 10, 11, 6, 8, 7, 7, 5, 4, 5. Tentukan persentil ke-25 dan persentil ke-75 !"
      ],
      "metadata": {
        "id": "pbbSJV71922W"
      }
    },
    {
      "cell_type": "code",
      "source": [
        "import numpy as np\n",
        "\n",
        "data = [9, 10, 11, 6, 8, 7, 7, 5, 4, 5]\n",
        "\n",
        "x = np.percentile(data, 25)\n",
        "y = np.percentile(data, 75)\n",
        "\n",
        "print(\"Nilai persentil ke 25 : \", x)\n",
        "print(\"Nilai persentil ke 75 : \", y)"
      ],
      "metadata": {
        "id": "119gbtyN-L3r",
        "outputId": "fbe86065-4727-44ce-b40f-20dc868f4c35",
        "colab": {
          "base_uri": "https://localhost:8080/"
        }
      },
      "execution_count": 2,
      "outputs": [
        {
          "output_type": "stream",
          "name": "stdout",
          "text": [
            "Nilai persentil ke 25 :  5.25\n",
            "Nilai persentil ke 75 :  8.75\n"
          ]
        }
      ]
    },
    {
      "cell_type": "markdown",
      "source": [
        "3.Pada sebuah kelas memiliki nilai hasil ujian yaitu 50, 54, 62, 50, 52, 59, 61, 63, 65, 10, 53, 63, 65, 50, 59, 62, 50, 51, 57, 60, 63, 65, 65, 53, 99. Beradasarkan data hasil ujian tersebut, tentukan :\n",
        "\n",
        "a.\tUrutkan data dari yang terkecil sampai data yang terbesar\n",
        "\n",
        "b.\tIdentifikasi nilai first quartile (Q1) dan third quartile (Q3), dan IQR\n",
        "\n",
        "c.\tTentukan nilai upper bound dan lower bound\n",
        "\n",
        "d.\tTentukan nilai ujian yang menjadi outlier berdasarkan data hasil ujian diatas\n"
      ],
      "metadata": {
        "id": "Aba7pvpW_SiP"
      }
    },
    {
      "cell_type": "code",
      "source": [
        "import numpy as np\n",
        "\n",
        "data = [50, 54, 62, 50, 52, 59, 61, 63, 65, 10, 53, 63, 65, 50, 59, 62, 50, 51, 57, 60, 63, 65, 65, 53, 99]\n",
        "\n",
        "# a. Mengurutkan data\n",
        "data_sorted = sorted(data)\n",
        "print(\"Data diurutkan:\", data_sorted)\n",
        "\n",
        "# b. Q1, Q3, dan IQR\n",
        "Q1 = np.percentile(data, 25)\n",
        "Q3 = np.percentile(data, 75)\n",
        "IQR = Q3 - Q1\n",
        "\n",
        "print(\"Q1:\", Q1)\n",
        "print(\"Q3:\", Q3)\n",
        "print(\"IQR:\", IQR)\n",
        "\n",
        "# c. Upper bound dan lower bound\n",
        "lower_bound = Q1 - 1.5 * IQR\n",
        "upper_bound = Q3 + 1.5 * IQR\n",
        "\n",
        "print(\"Upper Bound:\", upper_bound)\n",
        "print(\"Lower Bound:\", lower_bound)\n",
        "\n",
        "# d. Outlier\n",
        "outliers = [x for x in data if x < lower_bound or x > upper_bound]\n",
        "print(\"Outlier dalam data:\", outliers)"
      ],
      "metadata": {
        "id": "83vd0vI6AJLJ",
        "outputId": "4469ad97-e9db-47a3-e4c6-d2553bc7d7d4",
        "colab": {
          "base_uri": "https://localhost:8080/"
        }
      },
      "execution_count": 5,
      "outputs": [
        {
          "output_type": "stream",
          "name": "stdout",
          "text": [
            "Data diurutkan: [10, 50, 50, 50, 50, 51, 52, 53, 53, 54, 57, 59, 59, 60, 61, 62, 62, 63, 63, 63, 65, 65, 65, 65, 99]\n",
            "Q1: 52.0\n",
            "Q3: 63.0\n",
            "IQR: 11.0\n",
            "Upper Bound: 79.5\n",
            "Lower Bound: 35.5\n",
            "Outlier dalam data: [10, 99]\n"
          ]
        }
      ]
    },
    {
      "cell_type": "markdown",
      "source": [
        "4.Diketahui data berat bada mahasiswa informatika polines kelas IK-2E adalah sebagai berikut.\n",
        "\n",
        "Berat Badan (kg)\tFrekuensi\n",
        "\n",
        "41 – 45\t2\n",
        "\n",
        "46 – 50\t3\n",
        "\n",
        "50 – 55\t6\n",
        "\n",
        "56 – 60\t4\n",
        "\n",
        "61 – 65\t5\n",
        "\n",
        "66 – 70\t2\n"
      ],
      "metadata": {
        "id": "4ZFAeWwjAU1S"
      }
    },
    {
      "cell_type": "code",
      "source": [
        "import numpy as np\n",
        "\n",
        "berat = [(41, 45), (46, 50), (50, 55), (56, 60), (61, 65), (66, 70)]\n",
        "frekuensi = [2, 3, 6, 4, 5, 2]\n",
        "\n",
        "# Hitung titik tengah\n",
        "titik_tengah = [(a + b) / 2 for a, b in berat]\n",
        "\n",
        "total_f = sum(frekuensi)\n",
        "rerata = sum([f * x for f, x in zip(frekuensi, titik_tengah)]) / total_f\n",
        "\n",
        "# Hitung varians dan standar deviasi\n",
        "varians = sum([f * ((x - rerata) ** 2) for f, x in zip(frekuensi, titik_tengah)]) / total_f\n",
        "standar_deviasi = np.sqrt(varians)\n",
        "\n",
        "print(\"Standar deviasi data berat badan adalah:\", round(standar_deviasi, 2))\n"
      ],
      "metadata": {
        "id": "7xq_dU6ZCpks",
        "outputId": "8c5d3c14-3c50-48fa-ec8b-9efa76029464",
        "colab": {
          "base_uri": "https://localhost:8080/"
        }
      },
      "execution_count": 6,
      "outputs": [
        {
          "output_type": "stream",
          "name": "stdout",
          "text": [
            "Standar deviasi data berat badan adalah: 7.24\n"
          ]
        }
      ]
    }
  ]
}