{
  "cells": [
    {
      "cell_type": "markdown",
      "metadata": {
        "colab_type": "text",
        "id": "view-in-github"
      },
      "source": [
        "<a href=\"https://colab.research.google.com/github/azkbrqlna/2025-AI-Praktikum/blob/main/Jobsheet5.ipynb\" target=\"_parent\"><img src=\"https://colab.research.google.com/assets/colab-badge.svg\" alt=\"Open In Colab\"/></a>"
      ]
    },
    {
      "cell_type": "markdown",
      "id": "2e5d3f3e",
      "metadata": {
        "id": "2e5d3f3e"
      },
      "source": [
        "## Import Library"
      ]
    },
    {
      "cell_type": "code",
      "execution_count": 1,
      "id": "9581783b",
      "metadata": {
        "id": "9581783b"
      },
      "outputs": [],
      "source": [
        "# memanggil library pandas\n",
        "import pandas as pd"
      ]
    },
    {
      "cell_type": "markdown",
      "id": "ce25fa8b",
      "metadata": {
        "id": "ce25fa8b"
      },
      "source": [
        "## Load Dataset"
      ]
    },
    {
      "cell_type": "code",
      "execution_count": 2,
      "id": "540badb9",
      "metadata": {
        "colab": {
          "base_uri": "https://localhost:8080/",
          "height": 363
        },
        "id": "540badb9",
        "outputId": "4196ce4c-47f8-46a1-a7e2-5d19d8fa7027"
      },
      "outputs": [
        {
          "data": {
            "text/html": [
              "<div>\n",
              "<style scoped>\n",
              "    .dataframe tbody tr th:only-of-type {\n",
              "        vertical-align: middle;\n",
              "    }\n",
              "\n",
              "    .dataframe tbody tr th {\n",
              "        vertical-align: top;\n",
              "    }\n",
              "\n",
              "    .dataframe thead th {\n",
              "        text-align: right;\n",
              "    }\n",
              "</style>\n",
              "<table border=\"1\" class=\"dataframe\">\n",
              "  <thead>\n",
              "    <tr style=\"text-align: right;\">\n",
              "      <th></th>\n",
              "      <th>Negara</th>\n",
              "      <th>Umur</th>\n",
              "      <th>Gaji</th>\n",
              "      <th>Transaksi</th>\n",
              "    </tr>\n",
              "  </thead>\n",
              "  <tbody>\n",
              "    <tr>\n",
              "      <th>0</th>\n",
              "      <td>Jakarta</td>\n",
              "      <td>44.0</td>\n",
              "      <td>8000000.0</td>\n",
              "      <td>Tidak</td>\n",
              "    </tr>\n",
              "    <tr>\n",
              "      <th>1</th>\n",
              "      <td>Bandung</td>\n",
              "      <td>27.0</td>\n",
              "      <td>6700000.0</td>\n",
              "      <td>Ya</td>\n",
              "    </tr>\n",
              "    <tr>\n",
              "      <th>2</th>\n",
              "      <td>Surabaya</td>\n",
              "      <td>30.0</td>\n",
              "      <td>4500000.0</td>\n",
              "      <td>Tidak</td>\n",
              "    </tr>\n",
              "    <tr>\n",
              "      <th>3</th>\n",
              "      <td>Bandung</td>\n",
              "      <td>38.0</td>\n",
              "      <td>7500000.0</td>\n",
              "      <td>Tidak</td>\n",
              "    </tr>\n",
              "    <tr>\n",
              "      <th>4</th>\n",
              "      <td>Surabaya</td>\n",
              "      <td>40.0</td>\n",
              "      <td>NaN</td>\n",
              "      <td>Ya</td>\n",
              "    </tr>\n",
              "    <tr>\n",
              "      <th>5</th>\n",
              "      <td>Jakarta</td>\n",
              "      <td>35.0</td>\n",
              "      <td>10000000.0</td>\n",
              "      <td>Ya</td>\n",
              "    </tr>\n",
              "    <tr>\n",
              "      <th>6</th>\n",
              "      <td>Bandung</td>\n",
              "      <td>NaN</td>\n",
              "      <td>8250000.0</td>\n",
              "      <td>Tidak</td>\n",
              "    </tr>\n",
              "    <tr>\n",
              "      <th>7</th>\n",
              "      <td>Jakarta</td>\n",
              "      <td>48.0</td>\n",
              "      <td>9750000.0</td>\n",
              "      <td>Ya</td>\n",
              "    </tr>\n",
              "    <tr>\n",
              "      <th>8</th>\n",
              "      <td>Surabaya</td>\n",
              "      <td>1000.0</td>\n",
              "      <td>7674000.0</td>\n",
              "      <td>Tidak</td>\n",
              "    </tr>\n",
              "    <tr>\n",
              "      <th>9</th>\n",
              "      <td>Jakarta</td>\n",
              "      <td>27.0</td>\n",
              "      <td>6700000.0</td>\n",
              "      <td>Ya</td>\n",
              "    </tr>\n",
              "  </tbody>\n",
              "</table>\n",
              "</div>"
            ],
            "text/plain": [
              "     Negara    Umur        Gaji Transaksi\n",
              "0   Jakarta    44.0   8000000.0     Tidak\n",
              "1   Bandung    27.0   6700000.0        Ya\n",
              "2  Surabaya    30.0   4500000.0     Tidak\n",
              "3   Bandung    38.0   7500000.0     Tidak\n",
              "4  Surabaya    40.0         NaN        Ya\n",
              "5   Jakarta    35.0  10000000.0        Ya\n",
              "6   Bandung     NaN   8250000.0     Tidak\n",
              "7   Jakarta    48.0   9750000.0        Ya\n",
              "8  Surabaya  1000.0   7674000.0     Tidak\n",
              "9   Jakarta    27.0   6700000.0        Ya"
            ]
          },
          "execution_count": 2,
          "metadata": {},
          "output_type": "execute_result"
        }
      ],
      "source": [
        "df = pd.read_csv('./Data.csv') # Membaca file Data.csv ke dalam variabel df\n",
        "df # menampilkan seluruh isi data dari file tersebut."
      ]
    },
    {
      "cell_type": "code",
      "execution_count": 3,
      "id": "04f03196",
      "metadata": {
        "colab": {
          "base_uri": "https://localhost:8080/",
          "height": 210
        },
        "id": "04f03196",
        "outputId": "80565356-f9df-44b1-ae3b-c9a0f5ff838f"
      },
      "outputs": [
        {
          "data": {
            "text/plain": [
              "Negara       0\n",
              "Umur         1\n",
              "Gaji         1\n",
              "Transaksi    0\n",
              "dtype: int64"
            ]
          },
          "execution_count": 3,
          "metadata": {},
          "output_type": "execute_result"
        }
      ],
      "source": [
        "df.isnull().sum() # Menghitung jumlah data kosong"
      ]
    },
    {
      "cell_type": "markdown",
      "id": "7cd0a0db",
      "metadata": {
        "id": "7cd0a0db"
      },
      "source": [
        "## Mengatasi Missing Values dengan Drop Data"
      ]
    },
    {
      "cell_type": "markdown",
      "id": "d5c2d4f1",
      "metadata": {
        "id": "d5c2d4f1"
      },
      "source": [
        "### 1. Hapus Data yang kosong (NaN)"
      ]
    },
    {
      "cell_type": "code",
      "execution_count": 4,
      "id": "f5f178b5",
      "metadata": {
        "colab": {
          "base_uri": "https://localhost:8080/",
          "height": 300
        },
        "id": "f5f178b5",
        "outputId": "1d0d5327-1811-41aa-cd03-e5111baf4365"
      },
      "outputs": [
        {
          "data": {
            "text/html": [
              "<div>\n",
              "<style scoped>\n",
              "    .dataframe tbody tr th:only-of-type {\n",
              "        vertical-align: middle;\n",
              "    }\n",
              "\n",
              "    .dataframe tbody tr th {\n",
              "        vertical-align: top;\n",
              "    }\n",
              "\n",
              "    .dataframe thead th {\n",
              "        text-align: right;\n",
              "    }\n",
              "</style>\n",
              "<table border=\"1\" class=\"dataframe\">\n",
              "  <thead>\n",
              "    <tr style=\"text-align: right;\">\n",
              "      <th></th>\n",
              "      <th>Negara</th>\n",
              "      <th>Umur</th>\n",
              "      <th>Gaji</th>\n",
              "      <th>Transaksi</th>\n",
              "    </tr>\n",
              "  </thead>\n",
              "  <tbody>\n",
              "    <tr>\n",
              "      <th>0</th>\n",
              "      <td>Jakarta</td>\n",
              "      <td>44.0</td>\n",
              "      <td>8000000.0</td>\n",
              "      <td>Tidak</td>\n",
              "    </tr>\n",
              "    <tr>\n",
              "      <th>1</th>\n",
              "      <td>Bandung</td>\n",
              "      <td>27.0</td>\n",
              "      <td>6700000.0</td>\n",
              "      <td>Ya</td>\n",
              "    </tr>\n",
              "    <tr>\n",
              "      <th>2</th>\n",
              "      <td>Surabaya</td>\n",
              "      <td>30.0</td>\n",
              "      <td>4500000.0</td>\n",
              "      <td>Tidak</td>\n",
              "    </tr>\n",
              "    <tr>\n",
              "      <th>3</th>\n",
              "      <td>Bandung</td>\n",
              "      <td>38.0</td>\n",
              "      <td>7500000.0</td>\n",
              "      <td>Tidak</td>\n",
              "    </tr>\n",
              "    <tr>\n",
              "      <th>5</th>\n",
              "      <td>Jakarta</td>\n",
              "      <td>35.0</td>\n",
              "      <td>10000000.0</td>\n",
              "      <td>Ya</td>\n",
              "    </tr>\n",
              "    <tr>\n",
              "      <th>7</th>\n",
              "      <td>Jakarta</td>\n",
              "      <td>48.0</td>\n",
              "      <td>9750000.0</td>\n",
              "      <td>Ya</td>\n",
              "    </tr>\n",
              "    <tr>\n",
              "      <th>8</th>\n",
              "      <td>Surabaya</td>\n",
              "      <td>1000.0</td>\n",
              "      <td>7674000.0</td>\n",
              "      <td>Tidak</td>\n",
              "    </tr>\n",
              "    <tr>\n",
              "      <th>9</th>\n",
              "      <td>Jakarta</td>\n",
              "      <td>27.0</td>\n",
              "      <td>6700000.0</td>\n",
              "      <td>Ya</td>\n",
              "    </tr>\n",
              "  </tbody>\n",
              "</table>\n",
              "</div>"
            ],
            "text/plain": [
              "     Negara    Umur        Gaji Transaksi\n",
              "0   Jakarta    44.0   8000000.0     Tidak\n",
              "1   Bandung    27.0   6700000.0        Ya\n",
              "2  Surabaya    30.0   4500000.0     Tidak\n",
              "3   Bandung    38.0   7500000.0     Tidak\n",
              "5   Jakarta    35.0  10000000.0        Ya\n",
              "7   Jakarta    48.0   9750000.0        Ya\n",
              "8  Surabaya  1000.0   7674000.0     Tidak\n",
              "9   Jakarta    27.0   6700000.0        Ya"
            ]
          },
          "execution_count": 4,
          "metadata": {},
          "output_type": "execute_result"
        }
      ],
      "source": [
        "df = pd.read_csv('./Data.csv') # Membaca ulang file.\n",
        "df.dropna(inplace=True) # dropna() akan menghapus semua baris yang memiliki nilai kosong.\n",
        "\n",
        "df"
      ]
    },
    {
      "cell_type": "markdown",
      "id": "6223a91f",
      "metadata": {
        "id": "6223a91f"
      },
      "source": [
        "## Mengatasi Missing Values dengan Nilai Baru"
      ]
    },
    {
      "cell_type": "markdown",
      "id": "4dcae3dc",
      "metadata": {
        "id": "4dcae3dc"
      },
      "source": [
        "### 2. Ganti Data yang kosong (NaN) menjadi :\n",
        "\n",
        "### <ul><li>Umur = 50 </li><li>Gaji = 25000000</li></ul>"
      ]
    },
    {
      "cell_type": "code",
      "execution_count": 5,
      "id": "3a9a0e91",
      "metadata": {
        "colab": {
          "base_uri": "https://localhost:8080/"
        },
        "id": "3a9a0e91",
        "outputId": "5072d392-e937-4459-c2ee-46bbba92d295"
      },
      "outputs": [
        {
          "name": "stderr",
          "output_type": "stream",
          "text": [
            "C:\\Users\\azkbr\\AppData\\Local\\Temp\\ipykernel_5704\\3865833929.py:2: FutureWarning: A value is trying to be set on a copy of a DataFrame or Series through chained assignment using an inplace method.\n",
            "The behavior will change in pandas 3.0. This inplace method will never work because the intermediate object on which we are setting values always behaves as a copy.\n",
            "\n",
            "For example, when doing 'df[col].method(value, inplace=True)', try using 'df.method({col: value}, inplace=True)' or df[col] = df[col].method(value) instead, to perform the operation inplace on the original object.\n",
            "\n",
            "\n",
            "  df['Umur'].fillna(50, inplace=True) # Jika ada nilai kosong pada kolom 'Umur', maka akan diisi dengan 50.\n",
            "C:\\Users\\azkbr\\AppData\\Local\\Temp\\ipykernel_5704\\3865833929.py:3: FutureWarning: A value is trying to be set on a copy of a DataFrame or Series through chained assignment using an inplace method.\n",
            "The behavior will change in pandas 3.0. This inplace method will never work because the intermediate object on which we are setting values always behaves as a copy.\n",
            "\n",
            "For example, when doing 'df[col].method(value, inplace=True)', try using 'df.method({col: value}, inplace=True)' or df[col] = df[col].method(value) instead, to perform the operation inplace on the original object.\n",
            "\n",
            "\n",
            "  df['Gaji'].fillna(25000000, inplace=True) # Nilai kosong pada kolom 'Gaji' diisi dengan 25000000.\n"
          ]
        }
      ],
      "source": [
        "df = pd.read_csv('./Data.csv')\n",
        "df['Umur'].fillna(50, inplace=True) # Jika ada nilai kosong pada kolom 'Umur', maka akan diisi dengan 50.\n",
        "df['Gaji'].fillna(25000000, inplace=True) # Nilai kosong pada kolom 'Gaji' diisi dengan 25000000."
      ]
    },
    {
      "cell_type": "code",
      "execution_count": 6,
      "id": "69ca32e0",
      "metadata": {
        "colab": {
          "base_uri": "https://localhost:8080/",
          "height": 363
        },
        "id": "69ca32e0",
        "outputId": "162bd894-4b03-41d1-d6d4-b4131e246f9e"
      },
      "outputs": [
        {
          "data": {
            "text/html": [
              "<div>\n",
              "<style scoped>\n",
              "    .dataframe tbody tr th:only-of-type {\n",
              "        vertical-align: middle;\n",
              "    }\n",
              "\n",
              "    .dataframe tbody tr th {\n",
              "        vertical-align: top;\n",
              "    }\n",
              "\n",
              "    .dataframe thead th {\n",
              "        text-align: right;\n",
              "    }\n",
              "</style>\n",
              "<table border=\"1\" class=\"dataframe\">\n",
              "  <thead>\n",
              "    <tr style=\"text-align: right;\">\n",
              "      <th></th>\n",
              "      <th>Negara</th>\n",
              "      <th>Umur</th>\n",
              "      <th>Gaji</th>\n",
              "      <th>Transaksi</th>\n",
              "    </tr>\n",
              "  </thead>\n",
              "  <tbody>\n",
              "    <tr>\n",
              "      <th>0</th>\n",
              "      <td>Jakarta</td>\n",
              "      <td>44.0</td>\n",
              "      <td>8000000.0</td>\n",
              "      <td>Tidak</td>\n",
              "    </tr>\n",
              "    <tr>\n",
              "      <th>1</th>\n",
              "      <td>Bandung</td>\n",
              "      <td>27.0</td>\n",
              "      <td>6700000.0</td>\n",
              "      <td>Ya</td>\n",
              "    </tr>\n",
              "    <tr>\n",
              "      <th>2</th>\n",
              "      <td>Surabaya</td>\n",
              "      <td>30.0</td>\n",
              "      <td>4500000.0</td>\n",
              "      <td>Tidak</td>\n",
              "    </tr>\n",
              "    <tr>\n",
              "      <th>3</th>\n",
              "      <td>Bandung</td>\n",
              "      <td>38.0</td>\n",
              "      <td>7500000.0</td>\n",
              "      <td>Tidak</td>\n",
              "    </tr>\n",
              "    <tr>\n",
              "      <th>4</th>\n",
              "      <td>Surabaya</td>\n",
              "      <td>40.0</td>\n",
              "      <td>25000000.0</td>\n",
              "      <td>Ya</td>\n",
              "    </tr>\n",
              "    <tr>\n",
              "      <th>5</th>\n",
              "      <td>Jakarta</td>\n",
              "      <td>35.0</td>\n",
              "      <td>10000000.0</td>\n",
              "      <td>Ya</td>\n",
              "    </tr>\n",
              "    <tr>\n",
              "      <th>6</th>\n",
              "      <td>Bandung</td>\n",
              "      <td>50.0</td>\n",
              "      <td>8250000.0</td>\n",
              "      <td>Tidak</td>\n",
              "    </tr>\n",
              "    <tr>\n",
              "      <th>7</th>\n",
              "      <td>Jakarta</td>\n",
              "      <td>48.0</td>\n",
              "      <td>9750000.0</td>\n",
              "      <td>Ya</td>\n",
              "    </tr>\n",
              "    <tr>\n",
              "      <th>8</th>\n",
              "      <td>Surabaya</td>\n",
              "      <td>1000.0</td>\n",
              "      <td>7674000.0</td>\n",
              "      <td>Tidak</td>\n",
              "    </tr>\n",
              "    <tr>\n",
              "      <th>9</th>\n",
              "      <td>Jakarta</td>\n",
              "      <td>27.0</td>\n",
              "      <td>6700000.0</td>\n",
              "      <td>Ya</td>\n",
              "    </tr>\n",
              "  </tbody>\n",
              "</table>\n",
              "</div>"
            ],
            "text/plain": [
              "     Negara    Umur        Gaji Transaksi\n",
              "0   Jakarta    44.0   8000000.0     Tidak\n",
              "1   Bandung    27.0   6700000.0        Ya\n",
              "2  Surabaya    30.0   4500000.0     Tidak\n",
              "3   Bandung    38.0   7500000.0     Tidak\n",
              "4  Surabaya    40.0  25000000.0        Ya\n",
              "5   Jakarta    35.0  10000000.0        Ya\n",
              "6   Bandung    50.0   8250000.0     Tidak\n",
              "7   Jakarta    48.0   9750000.0        Ya\n",
              "8  Surabaya  1000.0   7674000.0     Tidak\n",
              "9   Jakarta    27.0   6700000.0        Ya"
            ]
          },
          "execution_count": 6,
          "metadata": {},
          "output_type": "execute_result"
        }
      ],
      "source": [
        "df # tampilkan tabelnya"
      ]
    },
    {
      "cell_type": "markdown",
      "id": "4c4e6948",
      "metadata": {
        "id": "4c4e6948"
      },
      "source": [
        "## Mengatasi Missing Values dengan Nilai Mean"
      ]
    },
    {
      "cell_type": "markdown",
      "id": "033b4622",
      "metadata": {
        "id": "033b4622"
      },
      "source": [
        "## 3. Ganti Data Kosong (NaN) pada Umur dan Gaji dengan Nilai Rata-Rata"
      ]
    },
    {
      "cell_type": "code",
      "execution_count": 7,
      "id": "eba56e3c",
      "metadata": {
        "colab": {
          "base_uri": "https://localhost:8080/"
        },
        "id": "eba56e3c",
        "outputId": "2261abb4-0a19-4fe8-e360-50453e9c7493"
      },
      "outputs": [
        {
          "name": "stderr",
          "output_type": "stream",
          "text": [
            "C:\\Users\\azkbr\\AppData\\Local\\Temp\\ipykernel_5704\\2727911412.py:5: FutureWarning: A value is trying to be set on a copy of a DataFrame or Series through chained assignment using an inplace method.\n",
            "The behavior will change in pandas 3.0. This inplace method will never work because the intermediate object on which we are setting values always behaves as a copy.\n",
            "\n",
            "For example, when doing 'df[col].method(value, inplace=True)', try using 'df.method({col: value}, inplace=True)' or df[col] = df[col].method(value) instead, to perform the operation inplace on the original object.\n",
            "\n",
            "\n",
            "  df['Umur'].fillna(mean_umur, inplace=True)\n",
            "C:\\Users\\azkbr\\AppData\\Local\\Temp\\ipykernel_5704\\2727911412.py:6: FutureWarning: A value is trying to be set on a copy of a DataFrame or Series through chained assignment using an inplace method.\n",
            "The behavior will change in pandas 3.0. This inplace method will never work because the intermediate object on which we are setting values always behaves as a copy.\n",
            "\n",
            "For example, when doing 'df[col].method(value, inplace=True)', try using 'df.method({col: value}, inplace=True)' or df[col] = df[col].method(value) instead, to perform the operation inplace on the original object.\n",
            "\n",
            "\n",
            "  df['Gaji'].fillna(mean_gaji, inplace=True)\n"
          ]
        }
      ],
      "source": [
        "df = pd.read_csv('./Data.csv')\n",
        "mean_umur = df['Umur'].mean();\n",
        "mean_gaji = df['Gaji'].mean();\n",
        "# mean() menghitung nilai rata-rata.\n",
        "df['Umur'].fillna(mean_umur, inplace=True)\n",
        "df['Gaji'].fillna(mean_gaji, inplace=True)\n",
        "# Jika ada nilai kosong, akan diisi dengan nilai rata-rata dari kolom tersebut."
      ]
    },
    {
      "cell_type": "code",
      "execution_count": 8,
      "id": "356c5abd",
      "metadata": {
        "colab": {
          "base_uri": "https://localhost:8080/",
          "height": 363
        },
        "id": "356c5abd",
        "outputId": "5aa5e51e-59d7-425c-8b3a-7e4d8774d57e"
      },
      "outputs": [
        {
          "data": {
            "text/html": [
              "<div>\n",
              "<style scoped>\n",
              "    .dataframe tbody tr th:only-of-type {\n",
              "        vertical-align: middle;\n",
              "    }\n",
              "\n",
              "    .dataframe tbody tr th {\n",
              "        vertical-align: top;\n",
              "    }\n",
              "\n",
              "    .dataframe thead th {\n",
              "        text-align: right;\n",
              "    }\n",
              "</style>\n",
              "<table border=\"1\" class=\"dataframe\">\n",
              "  <thead>\n",
              "    <tr style=\"text-align: right;\">\n",
              "      <th></th>\n",
              "      <th>Negara</th>\n",
              "      <th>Umur</th>\n",
              "      <th>Gaji</th>\n",
              "      <th>Transaksi</th>\n",
              "    </tr>\n",
              "  </thead>\n",
              "  <tbody>\n",
              "    <tr>\n",
              "      <th>0</th>\n",
              "      <td>Jakarta</td>\n",
              "      <td>44.000000</td>\n",
              "      <td>8.000000e+06</td>\n",
              "      <td>Tidak</td>\n",
              "    </tr>\n",
              "    <tr>\n",
              "      <th>1</th>\n",
              "      <td>Bandung</td>\n",
              "      <td>27.000000</td>\n",
              "      <td>6.700000e+06</td>\n",
              "      <td>Ya</td>\n",
              "    </tr>\n",
              "    <tr>\n",
              "      <th>2</th>\n",
              "      <td>Surabaya</td>\n",
              "      <td>30.000000</td>\n",
              "      <td>4.500000e+06</td>\n",
              "      <td>Tidak</td>\n",
              "    </tr>\n",
              "    <tr>\n",
              "      <th>3</th>\n",
              "      <td>Bandung</td>\n",
              "      <td>38.000000</td>\n",
              "      <td>7.500000e+06</td>\n",
              "      <td>Tidak</td>\n",
              "    </tr>\n",
              "    <tr>\n",
              "      <th>4</th>\n",
              "      <td>Surabaya</td>\n",
              "      <td>40.000000</td>\n",
              "      <td>7.674889e+06</td>\n",
              "      <td>Ya</td>\n",
              "    </tr>\n",
              "    <tr>\n",
              "      <th>5</th>\n",
              "      <td>Jakarta</td>\n",
              "      <td>35.000000</td>\n",
              "      <td>1.000000e+07</td>\n",
              "      <td>Ya</td>\n",
              "    </tr>\n",
              "    <tr>\n",
              "      <th>6</th>\n",
              "      <td>Bandung</td>\n",
              "      <td>143.222222</td>\n",
              "      <td>8.250000e+06</td>\n",
              "      <td>Tidak</td>\n",
              "    </tr>\n",
              "    <tr>\n",
              "      <th>7</th>\n",
              "      <td>Jakarta</td>\n",
              "      <td>48.000000</td>\n",
              "      <td>9.750000e+06</td>\n",
              "      <td>Ya</td>\n",
              "    </tr>\n",
              "    <tr>\n",
              "      <th>8</th>\n",
              "      <td>Surabaya</td>\n",
              "      <td>1000.000000</td>\n",
              "      <td>7.674000e+06</td>\n",
              "      <td>Tidak</td>\n",
              "    </tr>\n",
              "    <tr>\n",
              "      <th>9</th>\n",
              "      <td>Jakarta</td>\n",
              "      <td>27.000000</td>\n",
              "      <td>6.700000e+06</td>\n",
              "      <td>Ya</td>\n",
              "    </tr>\n",
              "  </tbody>\n",
              "</table>\n",
              "</div>"
            ],
            "text/plain": [
              "     Negara         Umur          Gaji Transaksi\n",
              "0   Jakarta    44.000000  8.000000e+06     Tidak\n",
              "1   Bandung    27.000000  6.700000e+06        Ya\n",
              "2  Surabaya    30.000000  4.500000e+06     Tidak\n",
              "3   Bandung    38.000000  7.500000e+06     Tidak\n",
              "4  Surabaya    40.000000  7.674889e+06        Ya\n",
              "5   Jakarta    35.000000  1.000000e+07        Ya\n",
              "6   Bandung   143.222222  8.250000e+06     Tidak\n",
              "7   Jakarta    48.000000  9.750000e+06        Ya\n",
              "8  Surabaya  1000.000000  7.674000e+06     Tidak\n",
              "9   Jakarta    27.000000  6.700000e+06        Ya"
            ]
          },
          "execution_count": 8,
          "metadata": {},
          "output_type": "execute_result"
        }
      ],
      "source": [
        "df # tampilkan data"
      ]
    },
    {
      "cell_type": "markdown",
      "id": "3a02bfae",
      "metadata": {
        "id": "3a02bfae"
      },
      "source": [
        "## Mengatasi Missing Values dengan Nilai Median"
      ]
    },
    {
      "cell_type": "markdown",
      "id": "8e107f67",
      "metadata": {
        "id": "8e107f67"
      },
      "source": [
        "## 4. Ganti Data Kosong (NaN) pada Umur dan Gaji dengan Nilai Median"
      ]
    },
    {
      "cell_type": "code",
      "execution_count": 9,
      "id": "21e011c8",
      "metadata": {
        "colab": {
          "base_uri": "https://localhost:8080/",
          "height": 626
        },
        "id": "21e011c8",
        "outputId": "0bd37048-62e1-45b8-c68e-5d794d463078"
      },
      "outputs": [
        {
          "name": "stderr",
          "output_type": "stream",
          "text": [
            "C:\\Users\\azkbr\\AppData\\Local\\Temp\\ipykernel_5704\\329369728.py:5: FutureWarning: A value is trying to be set on a copy of a DataFrame or Series through chained assignment using an inplace method.\n",
            "The behavior will change in pandas 3.0. This inplace method will never work because the intermediate object on which we are setting values always behaves as a copy.\n",
            "\n",
            "For example, when doing 'df[col].method(value, inplace=True)', try using 'df.method({col: value}, inplace=True)' or df[col] = df[col].method(value) instead, to perform the operation inplace on the original object.\n",
            "\n",
            "\n",
            "  df['Umur'].fillna(mean_umur, inplace=True)\n",
            "C:\\Users\\azkbr\\AppData\\Local\\Temp\\ipykernel_5704\\329369728.py:6: FutureWarning: A value is trying to be set on a copy of a DataFrame or Series through chained assignment using an inplace method.\n",
            "The behavior will change in pandas 3.0. This inplace method will never work because the intermediate object on which we are setting values always behaves as a copy.\n",
            "\n",
            "For example, when doing 'df[col].method(value, inplace=True)', try using 'df.method({col: value}, inplace=True)' or df[col] = df[col].method(value) instead, to perform the operation inplace on the original object.\n",
            "\n",
            "\n",
            "  df['Gaji'].fillna(mean_gaji, inplace=True)\n"
          ]
        },
        {
          "data": {
            "text/html": [
              "<div>\n",
              "<style scoped>\n",
              "    .dataframe tbody tr th:only-of-type {\n",
              "        vertical-align: middle;\n",
              "    }\n",
              "\n",
              "    .dataframe tbody tr th {\n",
              "        vertical-align: top;\n",
              "    }\n",
              "\n",
              "    .dataframe thead th {\n",
              "        text-align: right;\n",
              "    }\n",
              "</style>\n",
              "<table border=\"1\" class=\"dataframe\">\n",
              "  <thead>\n",
              "    <tr style=\"text-align: right;\">\n",
              "      <th></th>\n",
              "      <th>Negara</th>\n",
              "      <th>Umur</th>\n",
              "      <th>Gaji</th>\n",
              "      <th>Transaksi</th>\n",
              "    </tr>\n",
              "  </thead>\n",
              "  <tbody>\n",
              "    <tr>\n",
              "      <th>0</th>\n",
              "      <td>Jakarta</td>\n",
              "      <td>44.0</td>\n",
              "      <td>8000000.0</td>\n",
              "      <td>Tidak</td>\n",
              "    </tr>\n",
              "    <tr>\n",
              "      <th>1</th>\n",
              "      <td>Bandung</td>\n",
              "      <td>27.0</td>\n",
              "      <td>6700000.0</td>\n",
              "      <td>Ya</td>\n",
              "    </tr>\n",
              "    <tr>\n",
              "      <th>2</th>\n",
              "      <td>Surabaya</td>\n",
              "      <td>30.0</td>\n",
              "      <td>4500000.0</td>\n",
              "      <td>Tidak</td>\n",
              "    </tr>\n",
              "    <tr>\n",
              "      <th>3</th>\n",
              "      <td>Bandung</td>\n",
              "      <td>38.0</td>\n",
              "      <td>7500000.0</td>\n",
              "      <td>Tidak</td>\n",
              "    </tr>\n",
              "    <tr>\n",
              "      <th>4</th>\n",
              "      <td>Surabaya</td>\n",
              "      <td>40.0</td>\n",
              "      <td>7674000.0</td>\n",
              "      <td>Ya</td>\n",
              "    </tr>\n",
              "    <tr>\n",
              "      <th>5</th>\n",
              "      <td>Jakarta</td>\n",
              "      <td>35.0</td>\n",
              "      <td>10000000.0</td>\n",
              "      <td>Ya</td>\n",
              "    </tr>\n",
              "    <tr>\n",
              "      <th>6</th>\n",
              "      <td>Bandung</td>\n",
              "      <td>38.0</td>\n",
              "      <td>8250000.0</td>\n",
              "      <td>Tidak</td>\n",
              "    </tr>\n",
              "    <tr>\n",
              "      <th>7</th>\n",
              "      <td>Jakarta</td>\n",
              "      <td>48.0</td>\n",
              "      <td>9750000.0</td>\n",
              "      <td>Ya</td>\n",
              "    </tr>\n",
              "    <tr>\n",
              "      <th>8</th>\n",
              "      <td>Surabaya</td>\n",
              "      <td>1000.0</td>\n",
              "      <td>7674000.0</td>\n",
              "      <td>Tidak</td>\n",
              "    </tr>\n",
              "    <tr>\n",
              "      <th>9</th>\n",
              "      <td>Jakarta</td>\n",
              "      <td>27.0</td>\n",
              "      <td>6700000.0</td>\n",
              "      <td>Ya</td>\n",
              "    </tr>\n",
              "  </tbody>\n",
              "</table>\n",
              "</div>"
            ],
            "text/plain": [
              "     Negara    Umur        Gaji Transaksi\n",
              "0   Jakarta    44.0   8000000.0     Tidak\n",
              "1   Bandung    27.0   6700000.0        Ya\n",
              "2  Surabaya    30.0   4500000.0     Tidak\n",
              "3   Bandung    38.0   7500000.0     Tidak\n",
              "4  Surabaya    40.0   7674000.0        Ya\n",
              "5   Jakarta    35.0  10000000.0        Ya\n",
              "6   Bandung    38.0   8250000.0     Tidak\n",
              "7   Jakarta    48.0   9750000.0        Ya\n",
              "8  Surabaya  1000.0   7674000.0     Tidak\n",
              "9   Jakarta    27.0   6700000.0        Ya"
            ]
          },
          "execution_count": 9,
          "metadata": {},
          "output_type": "execute_result"
        }
      ],
      "source": [
        "df = pd.read_csv('./Data.csv')\n",
        "mean_umur = df['Umur'].median();\n",
        "mean_gaji = df['Gaji'].median();\n",
        "# median() digunakan untuk menghitung nilai tengah (median).\n",
        "df['Umur'].fillna(mean_umur, inplace=True)\n",
        "df['Gaji'].fillna(mean_gaji, inplace=True)\n",
        "\n",
        "df #tampilkan data"
      ]
    },
    {
      "cell_type": "markdown",
      "id": "2083828a",
      "metadata": {
        "id": "2083828a"
      },
      "source": [
        "## Mengatasi Missing Values dengan Nilai Mode"
      ]
    },
    {
      "cell_type": "markdown",
      "id": "1ccaeb2d",
      "metadata": {
        "id": "1ccaeb2d"
      },
      "source": [
        "## 5. Ganti Data Kosong (NaN) pada Umur dan Gaji dengan Nilai Modus"
      ]
    },
    {
      "cell_type": "code",
      "execution_count": 10,
      "id": "c972c11f",
      "metadata": {
        "colab": {
          "base_uri": "https://localhost:8080/",
          "height": 626
        },
        "id": "c972c11f",
        "outputId": "75b0fc61-66c4-41d4-b4b4-6f3e9a1f24c2"
      },
      "outputs": [
        {
          "name": "stderr",
          "output_type": "stream",
          "text": [
            "C:\\Users\\azkbr\\AppData\\Local\\Temp\\ipykernel_5704\\1046804287.py:6: FutureWarning: A value is trying to be set on a copy of a DataFrame or Series through chained assignment using an inplace method.\n",
            "The behavior will change in pandas 3.0. This inplace method will never work because the intermediate object on which we are setting values always behaves as a copy.\n",
            "\n",
            "For example, when doing 'df[col].method(value, inplace=True)', try using 'df.method({col: value}, inplace=True)' or df[col] = df[col].method(value) instead, to perform the operation inplace on the original object.\n",
            "\n",
            "\n",
            "  df['Umur'].fillna(mean_umur, inplace=True)\n",
            "C:\\Users\\azkbr\\AppData\\Local\\Temp\\ipykernel_5704\\1046804287.py:7: FutureWarning: A value is trying to be set on a copy of a DataFrame or Series through chained assignment using an inplace method.\n",
            "The behavior will change in pandas 3.0. This inplace method will never work because the intermediate object on which we are setting values always behaves as a copy.\n",
            "\n",
            "For example, when doing 'df[col].method(value, inplace=True)', try using 'df.method({col: value}, inplace=True)' or df[col] = df[col].method(value) instead, to perform the operation inplace on the original object.\n",
            "\n",
            "\n",
            "  df['Gaji'].fillna(mean_gaji, inplace=True)\n"
          ]
        },
        {
          "data": {
            "text/html": [
              "<div>\n",
              "<style scoped>\n",
              "    .dataframe tbody tr th:only-of-type {\n",
              "        vertical-align: middle;\n",
              "    }\n",
              "\n",
              "    .dataframe tbody tr th {\n",
              "        vertical-align: top;\n",
              "    }\n",
              "\n",
              "    .dataframe thead th {\n",
              "        text-align: right;\n",
              "    }\n",
              "</style>\n",
              "<table border=\"1\" class=\"dataframe\">\n",
              "  <thead>\n",
              "    <tr style=\"text-align: right;\">\n",
              "      <th></th>\n",
              "      <th>Negara</th>\n",
              "      <th>Umur</th>\n",
              "      <th>Gaji</th>\n",
              "      <th>Transaksi</th>\n",
              "    </tr>\n",
              "  </thead>\n",
              "  <tbody>\n",
              "    <tr>\n",
              "      <th>0</th>\n",
              "      <td>Jakarta</td>\n",
              "      <td>44.0</td>\n",
              "      <td>8000000.0</td>\n",
              "      <td>Tidak</td>\n",
              "    </tr>\n",
              "    <tr>\n",
              "      <th>1</th>\n",
              "      <td>Bandung</td>\n",
              "      <td>27.0</td>\n",
              "      <td>6700000.0</td>\n",
              "      <td>Ya</td>\n",
              "    </tr>\n",
              "    <tr>\n",
              "      <th>2</th>\n",
              "      <td>Surabaya</td>\n",
              "      <td>30.0</td>\n",
              "      <td>4500000.0</td>\n",
              "      <td>Tidak</td>\n",
              "    </tr>\n",
              "    <tr>\n",
              "      <th>3</th>\n",
              "      <td>Bandung</td>\n",
              "      <td>38.0</td>\n",
              "      <td>7500000.0</td>\n",
              "      <td>Tidak</td>\n",
              "    </tr>\n",
              "    <tr>\n",
              "      <th>4</th>\n",
              "      <td>Surabaya</td>\n",
              "      <td>40.0</td>\n",
              "      <td>6700000.0</td>\n",
              "      <td>Ya</td>\n",
              "    </tr>\n",
              "    <tr>\n",
              "      <th>5</th>\n",
              "      <td>Jakarta</td>\n",
              "      <td>35.0</td>\n",
              "      <td>10000000.0</td>\n",
              "      <td>Ya</td>\n",
              "    </tr>\n",
              "    <tr>\n",
              "      <th>6</th>\n",
              "      <td>Bandung</td>\n",
              "      <td>27.0</td>\n",
              "      <td>8250000.0</td>\n",
              "      <td>Tidak</td>\n",
              "    </tr>\n",
              "    <tr>\n",
              "      <th>7</th>\n",
              "      <td>Jakarta</td>\n",
              "      <td>48.0</td>\n",
              "      <td>9750000.0</td>\n",
              "      <td>Ya</td>\n",
              "    </tr>\n",
              "    <tr>\n",
              "      <th>8</th>\n",
              "      <td>Surabaya</td>\n",
              "      <td>1000.0</td>\n",
              "      <td>7674000.0</td>\n",
              "      <td>Tidak</td>\n",
              "    </tr>\n",
              "    <tr>\n",
              "      <th>9</th>\n",
              "      <td>Jakarta</td>\n",
              "      <td>27.0</td>\n",
              "      <td>6700000.0</td>\n",
              "      <td>Ya</td>\n",
              "    </tr>\n",
              "  </tbody>\n",
              "</table>\n",
              "</div>"
            ],
            "text/plain": [
              "     Negara    Umur        Gaji Transaksi\n",
              "0   Jakarta    44.0   8000000.0     Tidak\n",
              "1   Bandung    27.0   6700000.0        Ya\n",
              "2  Surabaya    30.0   4500000.0     Tidak\n",
              "3   Bandung    38.0   7500000.0     Tidak\n",
              "4  Surabaya    40.0   6700000.0        Ya\n",
              "5   Jakarta    35.0  10000000.0        Ya\n",
              "6   Bandung    27.0   8250000.0     Tidak\n",
              "7   Jakarta    48.0   9750000.0        Ya\n",
              "8  Surabaya  1000.0   7674000.0     Tidak\n",
              "9   Jakarta    27.0   6700000.0        Ya"
            ]
          },
          "execution_count": 10,
          "metadata": {},
          "output_type": "execute_result"
        }
      ],
      "source": [
        "df = pd.read_csv('./Data.csv')\n",
        "mean_umur = df['Umur'].mode()[0];\n",
        "mean_gaji = df['Gaji'].mode()[0];\n",
        "# mode() mengembalikan nilai yang paling sering muncul.\n",
        "# [0] diambil karena mode bisa mengembalikan lebih dari satu nilai.\n",
        "df['Umur'].fillna(mean_umur, inplace=True)\n",
        "df['Gaji'].fillna(mean_gaji, inplace=True)\n",
        "\n",
        "df"
      ]
    },
    {
      "cell_type": "markdown",
      "id": "f797d24d",
      "metadata": {
        "id": "f797d24d"
      },
      "source": [
        "## Mengatasi Wrong Data dengan Ubah Data"
      ]
    },
    {
      "cell_type": "markdown",
      "id": "b48165d6",
      "metadata": {
        "id": "b48165d6"
      },
      "source": [
        "## 6. Apabila Ada Umur yang diatas 120 maka ubah menjadi 33"
      ]
    },
    {
      "cell_type": "code",
      "execution_count": 11,
      "id": "aea2bc6e",
      "metadata": {
        "colab": {
          "base_uri": "https://localhost:8080/",
          "height": 363
        },
        "id": "aea2bc6e",
        "outputId": "7f13adc4-8c6f-4aa3-9204-58da98ecedc5"
      },
      "outputs": [
        {
          "data": {
            "text/html": [
              "<div>\n",
              "<style scoped>\n",
              "    .dataframe tbody tr th:only-of-type {\n",
              "        vertical-align: middle;\n",
              "    }\n",
              "\n",
              "    .dataframe tbody tr th {\n",
              "        vertical-align: top;\n",
              "    }\n",
              "\n",
              "    .dataframe thead th {\n",
              "        text-align: right;\n",
              "    }\n",
              "</style>\n",
              "<table border=\"1\" class=\"dataframe\">\n",
              "  <thead>\n",
              "    <tr style=\"text-align: right;\">\n",
              "      <th></th>\n",
              "      <th>Negara</th>\n",
              "      <th>Umur</th>\n",
              "      <th>Gaji</th>\n",
              "      <th>Transaksi</th>\n",
              "    </tr>\n",
              "  </thead>\n",
              "  <tbody>\n",
              "    <tr>\n",
              "      <th>0</th>\n",
              "      <td>Jakarta</td>\n",
              "      <td>44.0</td>\n",
              "      <td>8000000.0</td>\n",
              "      <td>Tidak</td>\n",
              "    </tr>\n",
              "    <tr>\n",
              "      <th>1</th>\n",
              "      <td>Bandung</td>\n",
              "      <td>27.0</td>\n",
              "      <td>6700000.0</td>\n",
              "      <td>Ya</td>\n",
              "    </tr>\n",
              "    <tr>\n",
              "      <th>2</th>\n",
              "      <td>Surabaya</td>\n",
              "      <td>30.0</td>\n",
              "      <td>4500000.0</td>\n",
              "      <td>Tidak</td>\n",
              "    </tr>\n",
              "    <tr>\n",
              "      <th>3</th>\n",
              "      <td>Bandung</td>\n",
              "      <td>38.0</td>\n",
              "      <td>7500000.0</td>\n",
              "      <td>Tidak</td>\n",
              "    </tr>\n",
              "    <tr>\n",
              "      <th>4</th>\n",
              "      <td>Surabaya</td>\n",
              "      <td>40.0</td>\n",
              "      <td>NaN</td>\n",
              "      <td>Ya</td>\n",
              "    </tr>\n",
              "    <tr>\n",
              "      <th>5</th>\n",
              "      <td>Jakarta</td>\n",
              "      <td>35.0</td>\n",
              "      <td>10000000.0</td>\n",
              "      <td>Ya</td>\n",
              "    </tr>\n",
              "    <tr>\n",
              "      <th>6</th>\n",
              "      <td>Bandung</td>\n",
              "      <td>NaN</td>\n",
              "      <td>8250000.0</td>\n",
              "      <td>Tidak</td>\n",
              "    </tr>\n",
              "    <tr>\n",
              "      <th>7</th>\n",
              "      <td>Jakarta</td>\n",
              "      <td>48.0</td>\n",
              "      <td>9750000.0</td>\n",
              "      <td>Ya</td>\n",
              "    </tr>\n",
              "    <tr>\n",
              "      <th>8</th>\n",
              "      <td>Surabaya</td>\n",
              "      <td>33.0</td>\n",
              "      <td>7674000.0</td>\n",
              "      <td>Tidak</td>\n",
              "    </tr>\n",
              "    <tr>\n",
              "      <th>9</th>\n",
              "      <td>Jakarta</td>\n",
              "      <td>27.0</td>\n",
              "      <td>6700000.0</td>\n",
              "      <td>Ya</td>\n",
              "    </tr>\n",
              "  </tbody>\n",
              "</table>\n",
              "</div>"
            ],
            "text/plain": [
              "     Negara  Umur        Gaji Transaksi\n",
              "0   Jakarta  44.0   8000000.0     Tidak\n",
              "1   Bandung  27.0   6700000.0        Ya\n",
              "2  Surabaya  30.0   4500000.0     Tidak\n",
              "3   Bandung  38.0   7500000.0     Tidak\n",
              "4  Surabaya  40.0         NaN        Ya\n",
              "5   Jakarta  35.0  10000000.0        Ya\n",
              "6   Bandung   NaN   8250000.0     Tidak\n",
              "7   Jakarta  48.0   9750000.0        Ya\n",
              "8  Surabaya  33.0   7674000.0     Tidak\n",
              "9   Jakarta  27.0   6700000.0        Ya"
            ]
          },
          "execution_count": 11,
          "metadata": {},
          "output_type": "execute_result"
        }
      ],
      "source": [
        "df = pd.read_csv('./Data.csv')\n",
        "\n",
        "for x in df.index: # Iterasi setiap baris data.\n",
        "    if df.loc[x, 'Umur'] > 120: # Jika kolom 'Umur' lebih dari 120\n",
        "        df.loc[x, 'Umur'] = 33 # maka diganti menjadi 33.\n",
        "  # Tujuannya adalah menghapus data yang tidak masuk akal (outlier).\n",
        "df"
      ]
    }
  ],
  "metadata": {
    "colab": {
      "include_colab_link": true,
      "provenance": []
    },
    "kernelspec": {
      "display_name": "Python 3",
      "language": "python",
      "name": "python3"
    },
    "language_info": {
      "codemirror_mode": {
        "name": "ipython",
        "version": 3
      },
      "file_extension": ".py",
      "mimetype": "text/x-python",
      "name": "python",
      "nbconvert_exporter": "python",
      "pygments_lexer": "ipython3",
      "version": "3.13.1"
    }
  },
  "nbformat": 4,
  "nbformat_minor": 5
}
